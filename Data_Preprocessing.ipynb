{
 "cells": [
  {
   "cell_type": "markdown",
   "metadata": {
    "id": "NlEd9QBXAzFi"
   },
   "source": [
    "# Land Cover Classification using Deep Learning on RGB Satellite Images"
   ]
  },
  {
   "cell_type": "markdown",
   "metadata": {},
   "source": [
    "## Data Preprocessing"
   ]
  },
  {
   "cell_type": "code",
   "execution_count": 1,
   "metadata": {
    "id": "eVs2TRVkAzFu"
   },
   "outputs": [
    {
     "name": "stderr",
     "output_type": "stream",
     "text": [
      "/usr/lib/python3/dist-packages/scipy/__init__.py:146: UserWarning: A NumPy version >=1.17.3 and <1.25.0 is required for this version of SciPy (detected version 1.26.3\n",
      "  warnings.warn(f\"A NumPy version >={np_minversion} and <{np_maxversion}\"\n",
      "2024-11-28 22:17:51.548727: I external/local_xla/xla/tsl/cuda/cudart_stub.cc:32] Could not find cuda drivers on your machine, GPU will not be used.\n",
      "2024-11-28 22:17:51.861940: I external/local_xla/xla/tsl/cuda/cudart_stub.cc:32] Could not find cuda drivers on your machine, GPU will not be used.\n",
      "2024-11-28 22:17:52.163973: E external/local_xla/xla/stream_executor/cuda/cuda_fft.cc:485] Unable to register cuFFT factory: Attempting to register factory for plugin cuFFT when one has already been registered\n",
      "2024-11-28 22:17:52.412952: E external/local_xla/xla/stream_executor/cuda/cuda_dnn.cc:8454] Unable to register cuDNN factory: Attempting to register factory for plugin cuDNN when one has already been registered\n",
      "2024-11-28 22:17:52.478538: E external/local_xla/xla/stream_executor/cuda/cuda_blas.cc:1452] Unable to register cuBLAS factory: Attempting to register factory for plugin cuBLAS when one has already been registered\n",
      "2024-11-28 22:17:53.191424: I tensorflow/core/platform/cpu_feature_guard.cc:210] This TensorFlow binary is optimized to use available CPU instructions in performance-critical operations.\n",
      "To enable the following instructions: AVX2 FMA, in other operations, rebuild TensorFlow with the appropriate compiler flags.\n",
      "2024-11-28 22:17:55.537452: W tensorflow/compiler/tf2tensorrt/utils/py_utils.cc:38] TF-TRT Warning: Could not find TensorRT\n"
     ]
    }
   ],
   "source": [
    "#Import needed libraries\n",
    "import os, shutil\n",
    "from PIL import Image, ImageOps\n",
    "\n",
    "#Standard Libraries\n",
    "import numpy as np\n",
    "import pandas as pd\n",
    "\n",
    "# Visualizations\n",
    "from matplotlib import pyplot as plt\n",
    "import seaborn as sns\n",
    "\n",
    "from sklearn.metrics import confusion_matrix, multilabel_confusion_matrix, classification_report, ConfusionMatrixDisplay\n",
    "\n",
    "#TensorFlow\n",
    "import tensorflow as tf\n",
    "from tensorflow.keras.preprocessing.image import ImageDataGenerator, array_to_img\n",
    "from keras import models, layers, optimizers, regularizers\n",
    "from tensorflow.keras import Model\n",
    "from tensorflow.data.experimental import cardinality\n",
    "from tensorflow.keras.utils import to_categorical \n",
    "from tensorflow.keras.models import Sequential\n",
    "from tensorflow.keras.layers import Dense # creates densely connected layer object\n",
    "from tensorflow.keras.layers import Flatten # takes 2D input and turns into 1D array\n",
    "from tensorflow.keras.layers import Conv2D # convolution layer\n",
    "from tensorflow.keras.layers import MaxPooling2D # max pooling layer\n",
    "from tensorflow.keras.callbacks import EarlyStopping, ModelCheckpoint\n",
    "\n",
    "#Transfer Learning\n",
    "from keras.applications import ResNet50, VGG19, VGG16"
   ]
  },
  {
   "cell_type": "markdown",
   "metadata": {
    "id": "aim-QQSxAzFv"
   },
   "source": [
    "### Import Data and Train/Validation/Test Split"
   ]
  },
  {
   "cell_type": "markdown",
   "metadata": {},
   "source": [
    "Since the data is only available as one folder containing subclass folders of each image class, we have to split the data into train and test sets before importing it. "
   ]
  },
  {
   "cell_type": "code",
   "execution_count": 2,
   "metadata": {
    "id": "keitW2mkAzFw"
   },
   "outputs": [],
   "source": [
    "#List image path for all categories\n",
    "data_AnnualCrop = 'EuroSAT_RGB/AnnualCrop'\n",
    "data_Forest = 'EuroSAT_RGB/Forest'\n",
    "data_HerbaceousVegetation = 'EuroSAT_RGB/HerbaceousVegetation'\n",
    "data_Highway = 'EuroSAT_RGB/Highway'\n",
    "data_Industrial = 'EuroSAT_RGB/Industrial'\n",
    "data_Pasture = 'EuroSAT_RGB/Pasture'\n",
    "data_PermanentCrop = 'EuroSAT_RGB/PermanentCrop'\n",
    "data_Residential = 'EuroSAT_RGB/Residential'\n",
    "data_River = 'EuroSAT_RGB/River'\n",
    "data_SeaLake = 'EuroSAT_RGB/SeaLake'\n",
    "\n",
    "\n",
    "new_dir = 'data/split/'"
   ]
  },
  {
   "cell_type": "code",
   "execution_count": 3,
   "metadata": {
    "id": "wKC0YUHUAzFw"
   },
   "outputs": [],
   "source": [
    "#Create objects that store all the relevant image names.\n",
    "imgs_AnnualCrop = [file for file in os.listdir(data_AnnualCrop) if file.endswith('.jpg')]\n",
    "imgs_Forest = [file for file in os.listdir(data_Forest) if file.endswith('.jpg')]\n",
    "imgs_HerbaceousVegetation = [file for file in os.listdir(data_HerbaceousVegetation) if file.endswith('.jpg')]\n",
    "imgs_Highway = [file for file in os.listdir(data_Highway) if file.endswith('.jpg')]\n",
    "imgs_Industrial = [file for file in os.listdir(data_Industrial) if file.endswith('.jpg')]\n",
    "imgs_Pasture = [file for file in os.listdir(data_Pasture) if file.endswith('.jpg')]\n",
    "imgs_PermanentCrop = [file for file in os.listdir(data_PermanentCrop) if file.endswith('.jpg')]\n",
    "imgs_Residential = [file for file in os.listdir(data_Residential) if file.endswith('.jpg')]\n",
    "imgs_River = [file for file in os.listdir(data_River) if file.endswith('.jpg')]\n",
    "imgs_SeaLake = [file for file in os.listdir(data_SeaLake) if file.endswith('.jpg')]"
   ]
  },
  {
   "cell_type": "code",
   "execution_count": 5,
   "metadata": {
    "id": "oEi_iIG_AzFx"
   },
   "outputs": [],
   "source": [
    "#Set up the Train folder and subfolders\n",
    "train_folder = os.path.join(new_dir, 'train')\n",
    "train_AnnualCrop = os.path.join(train_folder, 'AnnualCrop')\n",
    "train_Forest = os.path.join(train_folder, 'Forest')\n",
    "train_HerbaceousVegetation = os.path.join(train_folder, 'HerbaceousVegetation')\n",
    "train_Highway = os.path.join(train_folder, 'Highway')\n",
    "train_Industrial = os.path.join(train_folder, 'Industrial')\n",
    "train_Pasture = os.path.join(train_folder, 'Pasture')\n",
    "train_PermanentCrop = os.path.join(train_folder, 'PermanentCrop')\n",
    "train_Residential = os.path.join(train_folder, 'Residential')\n",
    "train_River = os.path.join(train_folder, 'River')\n",
    "train_SeaLake = os.path.join(train_folder, 'SeaLake')\n"
   ]
  },
  {
   "cell_type": "code",
   "execution_count": 6,
   "metadata": {
    "id": "0DEfz7j5AzFx"
   },
   "outputs": [],
   "source": [
    "#Set up the Test folder and subfolders\n",
    "test_folder = os.path.join(new_dir, 'test')\n",
    "test_AnnualCrop = os.path.join(test_folder, 'AnnualCrop')\n",
    "test_Forest = os.path.join(test_folder, 'Forest')\n",
    "test_HerbaceousVegetation = os.path.join(test_folder, 'HerbaceousVegetation')\n",
    "test_Highway = os.path.join(test_folder, 'Highway')\n",
    "test_Industrial = os.path.join(test_folder, 'Industrial')\n",
    "test_Pasture = os.path.join(test_folder, 'Pasture')\n",
    "test_PermanentCrop = os.path.join(test_folder, 'PermanentCrop')\n",
    "test_Residential = os.path.join(test_folder, 'Residential')\n",
    "test_River = os.path.join(test_folder, 'River')\n",
    "test_SeaLake = os.path.join(test_folder, 'SeaLake')"
   ]
  },
  {
   "cell_type": "code",
   "execution_count": 7,
   "metadata": {
    "id": "5NUak31sAzFx"
   },
   "outputs": [],
   "source": [
    "# Make the Train directories(folders)\n",
    "os.mkdir(train_folder)\n",
    "os.mkdir(train_AnnualCrop)\n",
    "os.mkdir(train_Forest)\n",
    "os.mkdir(train_HerbaceousVegetation)\n",
    "os.mkdir(train_Highway)\n",
    "os.mkdir(train_Industrial)\n",
    "os.mkdir(train_Pasture)\n",
    "os.mkdir(train_PermanentCrop)\n",
    "os.mkdir(train_Residential)\n",
    "os.mkdir(train_River)\n",
    "os.mkdir(train_SeaLake)\n",
    "\n",
    "# Make the Test directories(folders)\n",
    "os.mkdir(test_folder)\n",
    "os.mkdir(test_AnnualCrop)\n",
    "os.mkdir(test_Forest)\n",
    "os.mkdir(test_HerbaceousVegetation)\n",
    "os.mkdir(test_Highway)\n",
    "os.mkdir(test_Industrial)\n",
    "os.mkdir(test_Pasture)\n",
    "os.mkdir(test_PermanentCrop)\n",
    "os.mkdir(test_Residential)\n",
    "os.mkdir(test_River)\n",
    "os.mkdir(test_SeaLake)"
   ]
  },
  {
   "cell_type": "code",
   "execution_count": 8,
   "metadata": {
    "id": "SDoSqY4OAzFy"
   },
   "outputs": [],
   "source": [
    "# Compile 80% of images into folders- Train\n",
    "imgs = imgs_AnnualCrop[:2400]\n",
    "for img in imgs:\n",
    "    origin = os.path.join(data_AnnualCrop, img)\n",
    "    destination = os.path.join(train_AnnualCrop, img)\n",
    "    shutil.copyfile(origin, destination)\n",
    "    \n",
    "imgs = imgs_Forest[:2400]\n",
    "for img in imgs:\n",
    "    origin = os.path.join(data_Forest, img)\n",
    "    destination = os.path.join(train_Forest, img)\n",
    "    shutil.copyfile(origin, destination)\n",
    "\n",
    "imgs = imgs_HerbaceousVegetation[:2400]\n",
    "for img in imgs:\n",
    "    origin = os.path.join(data_HerbaceousVegetation, img)\n",
    "    destination = os.path.join(train_HerbaceousVegetation, img)\n",
    "    shutil.copyfile(origin, destination)\n",
    "    \n",
    "imgs = imgs_Highway[:2000]\n",
    "for img in imgs:\n",
    "    origin = os.path.join(data_Highway, img)\n",
    "    destination = os.path.join(train_Highway, img)\n",
    "    shutil.copyfile(origin, destination)\n",
    "    \n",
    "imgs = imgs_Industrial[:2000]\n",
    "for img in imgs:\n",
    "    origin = os.path.join(data_Industrial, img)\n",
    "    destination = os.path.join(train_Industrial, img)\n",
    "    shutil.copyfile(origin, destination)\n",
    "    \n",
    "imgs = imgs_Pasture[:1600]\n",
    "for img in imgs:\n",
    "    origin = os.path.join(data_Pasture, img)\n",
    "    destination = os.path.join(train_Pasture, img)\n",
    "    shutil.copyfile(origin, destination)\n",
    "    \n",
    "imgs = imgs_PermanentCrop[:2000]\n",
    "for img in imgs:\n",
    "    origin = os.path.join(data_PermanentCrop, img)\n",
    "    destination = os.path.join(train_PermanentCrop, img)\n",
    "    shutil.copyfile(origin, destination)\n",
    "    \n",
    "imgs = imgs_Residential[:2400]\n",
    "for img in imgs:\n",
    "    origin = os.path.join(data_Residential, img)\n",
    "    destination = os.path.join(train_Residential, img)\n",
    "    shutil.copyfile(origin, destination)\n",
    "    \n",
    "imgs = imgs_River[:2000]\n",
    "for img in imgs:\n",
    "    origin = os.path.join(data_River, img)\n",
    "    destination = os.path.join(train_River, img)\n",
    "    shutil.copyfile(origin, destination)\n",
    "    \n",
    "imgs = imgs_SeaLake[:2400]\n",
    "for img in imgs:\n",
    "    origin = os.path.join(data_SeaLake, img)\n",
    "    destination = os.path.join(train_SeaLake, img)\n",
    "    shutil.copyfile(origin, destination)"
   ]
  },
  {
   "cell_type": "code",
   "execution_count": 9,
   "metadata": {
    "id": "6tJmAqS4AzFy"
   },
   "outputs": [],
   "source": [
    "# Compile other 20% of images into folders- Test\n",
    "imgs = imgs_AnnualCrop[2400:] #600\n",
    "for img in imgs:\n",
    "    origin = os.path.join(data_AnnualCrop, img)\n",
    "    destination = os.path.join(test_AnnualCrop, img)\n",
    "    shutil.copyfile(origin, destination)\n",
    "    \n",
    "imgs = imgs_Forest[2400:] #600\n",
    "for img in imgs:\n",
    "    origin = os.path.join(data_Forest, img)\n",
    "    destination = os.path.join(test_Forest, img)\n",
    "    shutil.copyfile(origin, destination)\n",
    "\n",
    "imgs = imgs_HerbaceousVegetation[2400:] #600\n",
    "for img in imgs:\n",
    "    origin = os.path.join(data_HerbaceousVegetation, img)\n",
    "    destination = os.path.join(test_HerbaceousVegetation, img)\n",
    "    shutil.copyfile(origin, destination)\n",
    "    \n",
    "imgs = imgs_Highway[2000:] #500\n",
    "for img in imgs:\n",
    "    origin = os.path.join(data_Highway, img)\n",
    "    destination = os.path.join(test_Highway, img)\n",
    "    shutil.copyfile(origin, destination)\n",
    "    \n",
    "imgs = imgs_Industrial[2000:] #500\n",
    "for img in imgs:\n",
    "    origin = os.path.join(data_Industrial, img)\n",
    "    destination = os.path.join(test_Industrial, img)\n",
    "    shutil.copyfile(origin, destination)\n",
    "    \n",
    "imgs = imgs_Pasture[1600:] #400\n",
    "for img in imgs:\n",
    "    origin = os.path.join(data_Pasture, img)\n",
    "    destination = os.path.join(test_Pasture, img)\n",
    "    shutil.copyfile(origin, destination)\n",
    "    \n",
    "imgs = imgs_PermanentCrop[2000:] #500\n",
    "for img in imgs:\n",
    "    origin = os.path.join(data_PermanentCrop, img)\n",
    "    destination = os.path.join(test_PermanentCrop, img)\n",
    "    shutil.copyfile(origin, destination)\n",
    "    \n",
    "imgs = imgs_Residential[2400:] #600\n",
    "for img in imgs:\n",
    "    origin = os.path.join(data_Residential, img)\n",
    "    destination = os.path.join(test_Residential, img)\n",
    "    shutil.copyfile(origin, destination)\n",
    "    \n",
    "imgs = imgs_River[2000:] #500\n",
    "for img in imgs:\n",
    "    origin = os.path.join(data_River, img)\n",
    "    destination = os.path.join(test_River, img)\n",
    "    shutil.copyfile(origin, destination)\n",
    "    \n",
    "imgs = imgs_SeaLake[2400:] #600\n",
    "for img in imgs:\n",
    "    origin = os.path.join(data_SeaLake, img)\n",
    "    destination = os.path.join(test_SeaLake, img)\n",
    "    shutil.copyfile(origin, destination)"
   ]
  },
  {
   "cell_type": "code",
   "execution_count": 10,
   "metadata": {
    "colab": {
     "base_uri": "https://localhost:8080/",
     "height": 425
    },
    "id": "kOkLuiV7AzF0",
    "outputId": "52e53429-fca3-46d1-eb4d-bf8ed4ee01d4"
   },
   "outputs": [
    {
     "name": "stdout",
     "output_type": "stream",
     "text": [
      "Found 18900 images belonging to 10 classes.\n",
      "Found 2700 images belonging to 10 classes.\n",
      "Found 5400 images belonging to 10 classes.\n"
     ]
    }
   ],
   "source": [
    "train_folder = 'data/split/train'\n",
    "test_folder = 'data/split/test'\n",
    "\n",
    "# Normalize images\n",
    "train_gen = ImageDataGenerator(rescale=1./255, validation_split = 0.125)\n",
    "test_gen = ImageDataGenerator(rescale=1./255)\n",
    "\n",
    "#Import data as 70% Train (10% Validation of orginal data set) and 20% Test\n",
    "train_generator = train_gen.flow_from_directory(train_folder,\n",
    "                                                class_mode = 'categorical', \n",
    "                                                subset ='training', \n",
    "                                                batch_size=128,\n",
    "                                                shuffle=True,\n",
    "                                                seed=42)\n",
    "                                               \n",
    "val_generator= train_gen.flow_from_directory(train_folder,\n",
    "                                             class_mode= 'categorical',\n",
    "                                             subset = \"validation\",\n",
    "                                             batch_size=128,\n",
    "                                             shuffle=True,\n",
    "                                             seed=42)\n",
    "\n",
    "test_generator= test_gen.flow_from_directory(test_folder,\n",
    "                                              class_mode= 'categorical',\n",
    "                                              batch_size=128,\n",
    "                                              shuffle=False,\n",
    "                                              seed=42)"
   ]
  },
  {
   "cell_type": "code",
   "execution_count": 11,
   "metadata": {
    "id": "uyAGupOSAzF1"
   },
   "outputs": [],
   "source": [
    "# create the data sets\n",
    "train_images, train_labels = next(train_generator)\n",
    "test_images, test_labels = next(test_generator)\n",
    "val_images, val_labels = next(val_generator)"
   ]
  },
  {
   "cell_type": "markdown",
   "metadata": {
    "id": "ApQ1qbmuAzF1"
   },
   "source": [
    "### Explore Data"
   ]
  },
  {
   "cell_type": "markdown",
   "metadata": {},
   "source": [
    "Let's look at our image counts of each class across the train, validation, and test datasets."
   ]
  },
  {
   "cell_type": "code",
   "execution_count": 12,
   "metadata": {
    "id": "G_xM--0hAzF1",
    "outputId": "2f2ec8f0-8739-4715-b813-5fe0ebd9748d"
   },
   "outputs": [
    {
     "name": "stdout",
     "output_type": "stream",
     "text": [
      "Train ~ [(0, 2100), (1, 2100), (2, 2100), (3, 1750), (4, 1750), (5, 1400), (6, 1750), (7, 2100), (8, 1750), (9, 2100)]\n",
      "Validation ~ [(0, 300), (1, 300), (2, 300), (3, 250), (4, 250), (5, 200), (6, 250), (7, 300), (8, 250), (9, 300)]\n",
      "Test ~ [(0, 600), (1, 600), (2, 600), (3, 500), (4, 500), (5, 400), (6, 500), (7, 600), (8, 500), (9, 600)]\n"
     ]
    }
   ],
   "source": [
    "#Confirm class balance for train and test\n",
    "train_classes = train_generator.classes\n",
    "val_classes = val_generator.classes\n",
    "test_classes = test_generator.classes\n",
    "\n",
    "#Look at image distribution by class across train, test, and validation sets.\n",
    "train_class, train_count = np.unique(train_classes, return_counts=True)\n",
    "val_class, val_count = np.unique(val_classes, return_counts=True)\n",
    "test_class, test_count = np.unique(test_classes, return_counts=True)\n",
    "\n",
    "print('Train ~ {}'.format(list(zip(train_class, train_count))))\n",
    "print('Validation ~ {}'.format(list(zip(val_class, val_count))))\n",
    "print('Test ~ {}'.format(list(zip(test_class, test_count))))"
   ]
  },
  {
   "cell_type": "code",
   "execution_count": 13,
   "metadata": {
    "id": "zF7KS8FIAzF2",
    "outputId": "25fd9b87-d1a8-43e5-86c8-5f224b856d09"
   },
   "outputs": [
    {
     "name": "stdout",
     "output_type": "stream",
     "text": [
      "Train: {'AnnualCrop': 0, 'Forest': 1, 'HerbaceousVegetation': 2, 'Highway': 3, 'Industrial': 4, 'Pasture': 5, 'PermanentCrop': 6, 'Residential': 7, 'River': 8, 'SeaLake': 9}\n",
      "Validation: {'AnnualCrop': 0, 'Forest': 1, 'HerbaceousVegetation': 2, 'Highway': 3, 'Industrial': 4, 'Pasture': 5, 'PermanentCrop': 6, 'Residential': 7, 'River': 8, 'SeaLake': 9}\n",
      "Train: {'AnnualCrop': 0, 'Forest': 1, 'HerbaceousVegetation': 2, 'Highway': 3, 'Industrial': 4, 'Pasture': 5, 'PermanentCrop': 6, 'Residential': 7, 'River': 8, 'SeaLake': 9}\n"
     ]
    }
   ],
   "source": [
    "#Checking the classes in our train data \n",
    "train_class_names = train_generator.class_indices\n",
    "print('Train:', train_class_names)\n",
    "\n",
    "#Checking the classes in our validation data\n",
    "val_class_names = val_generator.class_indices\n",
    "print('Validation:', val_class_names)\n",
    "\n",
    "#Checking the classes in our test data\n",
    "test_class_names = test_generator.class_indices\n",
    "print('Train:', test_class_names)"
   ]
  },
  {
   "cell_type": "code",
   "execution_count": 14,
   "metadata": {
    "id": "dukgFJwrAzF2",
    "outputId": "ed55f809-bdef-410e-c3cc-25a159186d18"
   },
   "outputs": [
    {
     "name": "stdout",
     "output_type": "stream",
     "text": [
      "Train\n",
      "(128, 256, 256, 3)\n",
      "(128, 10)\n",
      "Validation\n",
      "(128, 256, 256, 3)\n",
      "(128, 10)\n",
      "Test\n",
      "(128, 256, 256, 3)\n",
      "(128, 10)\n"
     ]
    }
   ],
   "source": [
    "# Preview the shape of both the images and labels for both the train, validation, and test sets (8 objects total)\n",
    "print(\"Train\")\n",
    "print(np.shape(train_images))\n",
    "print(np.shape(train_labels))\n",
    "print(\"Validation\")\n",
    "print(np.shape(val_images))\n",
    "print(np.shape(val_labels))\n",
    "print(\"Test\")\n",
    "print(np.shape(test_images))\n",
    "print(np.shape(test_labels))"
   ]
  },
  {
   "cell_type": "code",
   "execution_count": 15,
   "metadata": {
    "id": "Lwc91RwOAzF2",
    "outputId": "6e7cba57-4d1c-41fe-c611-b7dc608b55c4"
   },
   "outputs": [
    {
     "name": "stdout",
     "output_type": "stream",
     "text": [
      "[0. 0. 0. 1. 0. 0. 0. 0. 0. 0.]\n"
     ]
    },
    {
     "data": {
      "image/png": "[encoded data removed]",
      "text/plain": [
       "<PIL.Image.Image image mode=RGB size=256x256 at 0x79672FC27730>"
      ]
     },
     "execution_count": 15,
     "metadata": {},
     "output_type": "execute_result"
    }
   ],
   "source": [
    "# Preview a train data image\n",
    "print(train_labels[1])\n",
    "array_to_img(train_images[1])"
   ]
  },
  {
   "cell_type": "markdown",
   "metadata": {},
   "source": [
    "The above image is an example of the \"road\" class."
   ]
  },
  {
   "cell_type": "code",
   "execution_count": 16,
   "metadata": {
    "id": "_IAaxbXwAzF2",
    "outputId": "67d3dcc8-04ec-4b11-82da-d1806be9b83b"
   },
   "outputs": [
    {
     "name": "stdout",
     "output_type": "stream",
     "text": [
      "[1. 0. 0. 0. 0. 0. 0. 0. 0. 0.]\n"
     ]
    },
    {
     "data": {
      "image/png": "[encoded data removed]",
      "text/plain": [
       "<PIL.Image.Image image mode=RGB size=256x256 at 0x79672FC276A0>"
      ]
     },
     "execution_count": 16,
     "metadata": {},
     "output_type": "execute_result"
    }
   ],
   "source": [
    "# Preview a test data image\n",
    "print(test_labels[1])\n",
    "array_to_img(test_images[1])"
   ]
  },
  {
   "cell_type": "markdown",
   "metadata": {
    "id": "9rE7bNT8AzF3"
   },
   "source": [
    "The above image is an example of the \"Annual Crop\" class."
   ]
  },
  {
   "cell_type": "code",
   "execution_count": null,
   "metadata": {},
   "outputs": [],
   "source": []
  }
 ],
 "metadata": {
  "accelerator": "GPU",
  "colab": {
   "include_colab_link": true,
   "machine_shape": "hm",
   "provenance": []
  },
  "gpuClass": "premium",
  "kernelspec": {
   "display_name": "Python 3 (ipykernel)",
   "language": "python",
   "name": "python3"
  },
  "language_info": {
   "codemirror_mode": {
    "name": "ipython",
    "version": 3
   },
   "file_extension": ".py",
   "mimetype": "text/x-python",
   "name": "python",
   "nbconvert_exporter": "python",
   "pygments_lexer": "ipython3",
   "version": "3.10.12"
  }
 },
 "nbformat": 4,
 "nbformat_minor": 4
}
